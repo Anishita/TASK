{
 "cells": [
  {
   "cell_type": "code",
   "execution_count": 1,
   "metadata": {},
   "outputs": [
    {
     "name": "stdout",
     "output_type": "stream",
     "text": [
      "Enter Age : 11\n",
      "You are  Not eligible for voting  for Vote.\n"
     ]
    }
   ],
   "source": [
    "age = int(input(\"Enter Age : \"))\n",
    "\n",
    "if age>=18:\n",
    "        status=\"Eligible for voting\"\n",
    "else:\n",
    "    status=\"Not eligible for voting\"\n",
    "\n",
    "print(\"You are \",status,\" for Vote.\")"
   ]
  },
  {
   "cell_type": "code",
   "execution_count": 3,
   "metadata": {},
   "outputs": [
    {
     "name": "stdout",
     "output_type": "stream",
     "text": [
      "Enter a number: -2\n",
      "Negative number\n"
     ]
    }
   ],
   "source": [
    "num = float(input(\"Enter a number: \"))\n",
    "if num > 0:\n",
    "   print(\"Positive number\")\n",
    "elif num == 0:\n",
    "   print(\"Zero\")\n",
    "else:\n",
    "   print(\"Negative number\")"
   ]
  },
  {
   "cell_type": "code",
   "execution_count": 5,
   "metadata": {},
   "outputs": [
    {
     "name": "stdout",
     "output_type": "stream",
     "text": [
      "Enter your Number: 26389\n",
      "The number is odd\n"
     ]
    }
   ],
   "source": [
    "def even_or_odd(num):\n",
    "    if num % 2 == 0:\n",
    "        if num % 4 == 0:\n",
    "            return \"The number is even and divisible by 4\"\n",
    "        return \"The number is even but not divisible by 4\"\n",
    "    return \"The number is odd\"\n",
    "\n",
    "print(even_or_odd(int(input(\"Enter your Number: \"))))"
   ]
  },
  {
   "cell_type": "code",
   "execution_count": 11,
   "metadata": {},
   "outputs": [
    {
     "name": "stdout",
     "output_type": "stream",
     "text": [
      "Enter you percentage: 88\n",
      "Pass\n"
     ]
    }
   ],
   "source": [
    "def grade(percentage):\n",
    "    if percentage > 90:\n",
    "        return \"Distinction\"\n",
    "    if percentage > 35:\n",
    "        return \"Pass\"\n",
    "    return \"Fail\"\n",
    "print(grade(int(input(\"Enter you percentage: \"))))"
   ]
  },
  {
   "cell_type": "code",
   "execution_count": 10,
   "metadata": {},
   "outputs": [
    {
     "name": "stdout",
     "output_type": "stream",
     "text": [
      "Please Enter the Year Number you wish: 7540\n",
      "7540 is a Leap Year\n"
     ]
    }
   ],
   "source": [
    "year = int(input(\"Please Enter the Year Number you wish: \"))\n",
    "\n",
    "if (( year%400 == 0)or (( year%4 == 0 ) and ( year%100 != 0))):\n",
    "    print(\"%d is a Leap Year\" %year)\n",
    "else:\n",
    "    print(\"%d is Not the Leap Year\" %year)"
   ]
  }
 ],
 "metadata": {
  "kernelspec": {
   "display_name": "Python 3",
   "language": "python",
   "name": "python3"
  },
  "language_info": {
   "codemirror_mode": {
    "name": "ipython",
    "version": 3
   },
   "file_extension": ".py",
   "mimetype": "text/x-python",
   "name": "python",
   "nbconvert_exporter": "python",
   "pygments_lexer": "ipython3",
   "version": "3.7.3"
  }
 },
 "nbformat": 4,
 "nbformat_minor": 2
}
